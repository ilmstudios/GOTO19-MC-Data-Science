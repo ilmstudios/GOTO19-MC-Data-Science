{
 "cells": [
  {
   "cell_type": "markdown",
   "metadata": {},
   "source": [
    "# Python Programming"
   ]
  },
  {
   "cell_type": "markdown",
   "metadata": {},
   "source": [
    "**What is Python?** source: [python.org](https://www.python.org/doc/essays/blurb/)\n",
    "\n",
    "Python is an interpreted, object-oriented, high-level programming language with dynamic semantics. Its high-level built in data structures, combined with dynamic typing and dynamic binding, make it very attractive for Rapid Application Development, as well as for use as a scripting or glue language to connect existing components together. Python's simple, easy to learn syntax emphasizes readability and therefore reduces the cost of program maintenance. Python supports modules and packages, which encourages program modularity and code reuse. The Python interpreter and the extensive standard library are available in source or binary form without charge for all major platforms, and can be freely distributed.\n",
    "\n",
    "Often, programmers fall in love with Python because of the increased productivity it provides. Since there is no compilation step, the edit-test-debug cycle is incredibly fast. Debugging Python programs is easy: a bug or bad input will never cause a segmentation fault. Instead, when the interpreter discovers an error, it raises an exception. When the program doesn't catch the exception, the interpreter prints a stack trace. A source level debugger allows inspection of local and global variables, evaluation of arbitrary expressions, setting breakpoints, stepping through the code a line at a time, and so on. The debugger is written in Python itself, testifying to Python's introspective power. On the other hand, often the quickest way to debug a program is to add a few print statements to the source: the fast edit-test-debug cycle makes this simple approach very effective.\n",
    "\n",
    "**What is Python capable of?***\n",
    "\n",
    "Long answer short: everything. Most often Python is used for web developments and prototyping, using frameworks such as [Flask](http://flask.palletsprojects.com/en/1.1.x/) and [Django](https://www.djangoproject.com/). Because of its simplicity, it is also popularly used in data science, both in industry and in academia.\n",
    "\n",
    "\n",
    "In this lab, we mainly cover the following python programming topics:\n",
    "\n",
    "<ul>\n",
    "    <li>data types</li>\n",
    "    <li>built-in data structure</li>\n",
    "    <li>I/O in Python</li>\n",
    "    <li>loops in Python</li>\n",
    "    <li>function and class</li>\n",
    "</ul>"
   ]
  },
  {
   "cell_type": "markdown",
   "metadata": {},
   "source": [
    "## Data Types"
   ]
  },
  {
   "cell_type": "code",
   "execution_count": null,
   "metadata": {},
   "outputs": [],
   "source": [
    "# interger\n",
    "a = 1\n",
    "print('I am an interger:', a)"
   ]
  },
  {
   "cell_type": "code",
   "execution_count": null,
   "metadata": {},
   "outputs": [],
   "source": [
    "# float -> decimal numbers\n",
    "a = 1.0\n",
    "print('I am a float:', a)"
   ]
  },
  {
   "cell_type": "code",
   "execution_count": null,
   "metadata": {},
   "outputs": [],
   "source": [
    "# strings -> an array of characteristics\n",
    "a = \"GOTO Chicago Fall 2019\"\n",
    "print('I am a string:', a)"
   ]
  },
  {
   "cell_type": "code",
   "execution_count": null,
   "metadata": {},
   "outputs": [],
   "source": [
    "# boolean -> binary\n",
    "a = True\n",
    "print('I am a binary:', a)"
   ]
  },
  {
   "cell_type": "markdown",
   "metadata": {},
   "source": [
    "**Data Type Conversion**"
   ]
  },
  {
   "cell_type": "code",
   "execution_count": null,
   "metadata": {},
   "outputs": [],
   "source": [
    "# interger to float\n",
    "a = 1\n",
    "print('I was an interger:', a, ', but now I am a floaw:', float(a))"
   ]
  },
  {
   "cell_type": "code",
   "execution_count": null,
   "metadata": {},
   "outputs": [],
   "source": [
    "# float to interger\n",
    "a = 1.0\n",
    "print('I was a float:', a, ', but now I am an interger:', int(a))"
   ]
  },
  {
   "cell_type": "code",
   "execution_count": null,
   "metadata": {},
   "outputs": [],
   "source": [
    "# string to interger/float\n",
    "a = '1.0'\n",
    "print('I was a string: \"'+ a +'\", but now I am a number:', eval(a))"
   ]
  },
  {
   "cell_type": "code",
   "execution_count": null,
   "metadata": {},
   "outputs": [],
   "source": [
    "# interger/float to string\n",
    "a = 1.0\n",
    "print('I was a number:', a, ', but now I am a string:', str(a))"
   ]
  },
  {
   "cell_type": "markdown",
   "metadata": {},
   "source": [
    "Additional material for reading if interested: [source](https://www.geeksforgeeks.org/type-conversion-python/)"
   ]
  },
  {
   "cell_type": "markdown",
   "metadata": {},
   "source": [
    "## Data Structures"
   ]
  },
  {
   "cell_type": "code",
   "execution_count": null,
   "metadata": {},
   "outputs": [],
   "source": [
    "# list -> mutable\n",
    "a = [1, 2, 3, 'a', 'b', 'c']\n",
    "print('I am a list:', a)"
   ]
  },
  {
   "cell_type": "code",
   "execution_count": null,
   "metadata": {},
   "outputs": [],
   "source": [
    "# tuple -> immutable\n",
    "a = (1, 2, 3, 'a', 'b', 'c')\n",
    "print('I am a tuple:', a)"
   ]
  },
  {
   "cell_type": "code",
   "execution_count": null,
   "metadata": {},
   "outputs": [],
   "source": [
    "# dictionary\n",
    "a = {'1': 'a', 2: 'b', 'c': 3}\n",
    "print('I am a dictionary:', a)"
   ]
  },
  {
   "cell_type": "markdown",
   "metadata": {},
   "source": [
    "**List**\n",
    "\n",
    "List is mutable, meaning after a list is defined, you can alter the values stored in it. **Tuple** is not mutable, meaning once it's defined, you can't change the values. Let's focus on the list for now."
   ]
  },
  {
   "cell_type": "code",
   "execution_count": null,
   "metadata": {},
   "outputs": [],
   "source": [
    "a = [1, 2, 3]"
   ]
  },
  {
   "cell_type": "code",
   "execution_count": null,
   "metadata": {},
   "outputs": [],
   "source": [
    "# select an item\n",
    "a[0]"
   ]
  },
  {
   "cell_type": "code",
   "execution_count": null,
   "metadata": {},
   "outputs": [],
   "source": [
    "# select a range of items\n",
    "a[0:2]"
   ]
  },
  {
   "cell_type": "code",
   "execution_count": null,
   "metadata": {},
   "outputs": [],
   "source": [
    "# add an item\n",
    "# method 1: append to the end of the list\n",
    "a.append(4)\n",
    "a"
   ]
  },
  {
   "cell_type": "code",
   "execution_count": null,
   "metadata": {},
   "outputs": [],
   "source": [
    "# method 2: insert into a specific position\n",
    "a.insert(2, 10)\n",
    "a"
   ]
  },
  {
   "cell_type": "code",
   "execution_count": null,
   "metadata": {},
   "outputs": [],
   "source": [
    "# remove an item\n",
    "# method 1: pop the last item in the list\n",
    "a.pop()"
   ]
  },
  {
   "cell_type": "code",
   "execution_count": null,
   "metadata": {},
   "outputs": [],
   "source": [
    "a"
   ]
  },
  {
   "cell_type": "code",
   "execution_count": null,
   "metadata": {},
   "outputs": [],
   "source": [
    "# method 2: remove a specific position\n",
    "a.pop(2)"
   ]
  },
  {
   "cell_type": "code",
   "execution_count": null,
   "metadata": {},
   "outputs": [],
   "source": [
    "a"
   ]
  },
  {
   "cell_type": "code",
   "execution_count": null,
   "metadata": {},
   "outputs": [],
   "source": [
    "# method 3: remove a specific value\n",
    "a.remove(3)"
   ]
  },
  {
   "cell_type": "code",
   "execution_count": null,
   "metadata": {},
   "outputs": [],
   "source": [
    "a"
   ]
  },
  {
   "cell_type": "markdown",
   "metadata": {},
   "source": [
    "**Dictionary**"
   ]
  },
  {
   "cell_type": "code",
   "execution_count": null,
   "metadata": {},
   "outputs": [],
   "source": [
    "# initiate an empty dictionary\n",
    "a = dict()\n",
    "a"
   ]
  },
  {
   "cell_type": "code",
   "execution_count": null,
   "metadata": {},
   "outputs": [],
   "source": [
    "# add an item\n",
    "# dictionary[key_name]= value_name\n",
    "a['my_key'] = 'my_value'\n",
    "a['my_key_2'] = 'my_value_2'\n",
    "a"
   ]
  },
  {
   "cell_type": "code",
   "execution_count": null,
   "metadata": {},
   "outputs": [],
   "source": [
    "# select a value based on key\n",
    "a['my_key']"
   ]
  },
  {
   "cell_type": "code",
   "execution_count": null,
   "metadata": {},
   "outputs": [],
   "source": [
    "# remove an item\n",
    "# method 1: pop the item added last\n",
    "a.popitem()"
   ]
  },
  {
   "cell_type": "code",
   "execution_count": null,
   "metadata": {},
   "outputs": [],
   "source": [
    "a"
   ]
  },
  {
   "cell_type": "code",
   "execution_count": null,
   "metadata": {},
   "outputs": [],
   "source": [
    "# method 2: pop the key\n",
    "a.pop('my_key')"
   ]
  },
  {
   "cell_type": "code",
   "execution_count": null,
   "metadata": {},
   "outputs": [],
   "source": [
    "a"
   ]
  },
  {
   "cell_type": "markdown",
   "metadata": {},
   "source": [
    "**Substring**"
   ]
  },
  {
   "cell_type": "code",
   "execution_count": null,
   "metadata": {},
   "outputs": [],
   "source": [
    "a = 'I am a string.'"
   ]
  },
  {
   "cell_type": "code",
   "execution_count": null,
   "metadata": {},
   "outputs": [],
   "source": [
    "# select a sub string out of the main string\n",
    "a[:5]"
   ]
  },
  {
   "cell_type": "markdown",
   "metadata": {},
   "source": [
    "## Input/Output (I/O) in Python\n",
    "\n",
    "Imagine you're reading a book, what are the steps for you to finish the process of reading a book? It should all include three steps,\n",
    "\n",
    "<ol>\n",
    "    <li>Open the book</li>\n",
    "    <li>Read the book</li>\n",
    "    <li>Close the book</li>\n",
    "</ol>\n",
    "\n",
    "Similar in Python, to read a text file from your local, you need to open a the file, read the content, and close the file. Here is how to do it."
   ]
  },
  {
   "cell_type": "markdown",
   "metadata": {},
   "source": [
    "**Step-by-Step Version**"
   ]
  },
  {
   "cell_type": "code",
   "execution_count": null,
   "metadata": {},
   "outputs": [],
   "source": [
    "# open the file\n",
    "path = './data/dummy.txt'\n",
    "file = open(path, 'r')"
   ]
  },
  {
   "cell_type": "markdown",
   "metadata": {},
   "source": [
    "`r` denotes read only mode."
   ]
  },
  {
   "cell_type": "code",
   "execution_count": null,
   "metadata": {},
   "outputs": [],
   "source": [
    "# read the content\n",
    "content = file.read()"
   ]
  },
  {
   "cell_type": "code",
   "execution_count": null,
   "metadata": {},
   "outputs": [],
   "source": [
    "print(content)"
   ]
  },
  {
   "cell_type": "code",
   "execution_count": null,
   "metadata": {},
   "outputs": [],
   "source": [
    "# close the file\n",
    "file.close()"
   ]
  },
  {
   "cell_type": "markdown",
   "metadata": {},
   "source": [
    "Now you can work with the content in `content` variable"
   ]
  },
  {
   "cell_type": "code",
   "execution_count": null,
   "metadata": {},
   "outputs": [],
   "source": [
    "content"
   ]
  },
  {
   "cell_type": "code",
   "execution_count": null,
   "metadata": {},
   "outputs": [],
   "source": [
    "# split() is a built-in method with Python's string datatype that splits a string using the sub-string \n",
    "# specified; if nothing is specified, it splits by a single space by default\n",
    "content.split('\\n')"
   ]
  },
  {
   "cell_type": "markdown",
   "metadata": {},
   "source": [
    "**Question:** What is the output data structure of the split method?"
   ]
  },
  {
   "cell_type": "markdown",
   "metadata": {},
   "source": [
    "**\"All-in-One\" or The Clean Version**"
   ]
  },
  {
   "cell_type": "code",
   "execution_count": null,
   "metadata": {},
   "outputs": [],
   "source": [
    "# \"with\" method takes care of closing the file so you don't have to worry about that\n",
    "with open('./data/dummy.txt', 'r') as file:\n",
    "    content2 = file.read()"
   ]
  },
  {
   "cell_type": "code",
   "execution_count": null,
   "metadata": {},
   "outputs": [],
   "source": [
    "content2"
   ]
  },
  {
   "cell_type": "markdown",
   "metadata": {},
   "source": [
    "Though you may have heard about tools like `Pandas` and `Numpy` that take care of I/O for you, knowing how to correctly read files using native Python is also important because data come in different formats."
   ]
  },
  {
   "cell_type": "markdown",
   "metadata": {},
   "source": [
    "## Loops in Python\n",
    "\n",
    "Given that you are already a developer, this section is just to show you how to write for and while loops in Python.\n"
   ]
  },
  {
   "cell_type": "markdown",
   "metadata": {},
   "source": [
    "**For Loop**"
   ]
  },
  {
   "cell_type": "code",
   "execution_count": null,
   "metadata": {},
   "outputs": [],
   "source": [
    "my_list = [1, 2, 3, '4', '5', '7', True]"
   ]
  },
  {
   "cell_type": "code",
   "execution_count": null,
   "metadata": {},
   "outputs": [],
   "source": [
    "for item in my_list:                        # loop through the list\n",
    "    if isinstance(item, str):               # if the item is a string\n",
    "        print(item, 'is a string.')\n",
    "    else:\n",
    "        print(item, 'is not a string.')"
   ]
  },
  {
   "cell_type": "markdown",
   "metadata": {},
   "source": [
    "**While Loop**"
   ]
  },
  {
   "cell_type": "code",
   "execution_count": null,
   "metadata": {},
   "outputs": [],
   "source": [
    "i = 0\n",
    "while i < len(my_list):\n",
    "    item = my_list[i]\n",
    "    if isinstance(item, str):               # if the item is a string\n",
    "        print(item, 'is a string.')\n",
    "    else:\n",
    "        print(item, 'is not a string.')\n",
    "    i += 1"
   ]
  },
  {
   "cell_type": "markdown",
   "metadata": {},
   "source": [
    "**Break and Continue**\n",
    "\n",
    "`break`: it breaks out of a for loop and continue the code\n",
    "\n",
    "`continue`: it skips the rest of the code in the current loop and moves onto the next iteration"
   ]
  },
  {
   "cell_type": "code",
   "execution_count": null,
   "metadata": {},
   "outputs": [],
   "source": [
    "for item in my_list:\n",
    "    if not isinstance(item, str):\n",
    "        continue\n",
    "        print('this is not a string.. this line is not even executed at all')\n",
    "    else:\n",
    "        print(item)"
   ]
  },
  {
   "cell_type": "markdown",
   "metadata": {},
   "source": [
    "**Q&A:** What happens if we swap out `continue` with `break`?"
   ]
  },
  {
   "cell_type": "markdown",
   "metadata": {},
   "source": [
    "## Function and Class\n",
    "\n",
    "A `function` is a set of python instructions/statements that take in inputs, do things to them, and output the results out. Note: This is the standard function definition, and not all functions need to take in inputs and/or returns output.\n",
    "\n",
    "A `class` is a code template that creates objects and it contains one or more functions. If you have experience in Java, it is just like the Java class."
   ]
  },
  {
   "cell_type": "code",
   "execution_count": null,
   "metadata": {},
   "outputs": [],
   "source": [
    "# function example\n",
    "def my_function(a_input):                        # define a function\n",
    "    output = str(a_input) + ' is the input'     # do something to the input\n",
    "    return output                               # return output"
   ]
  },
  {
   "cell_type": "code",
   "execution_count": null,
   "metadata": {},
   "outputs": [],
   "source": [
    "my_function(5)"
   ]
  },
  {
   "cell_type": "code",
   "execution_count": null,
   "metadata": {},
   "outputs": [],
   "source": [
    "# class example\n",
    "class my_class(object):\n",
    "    \"\"\"i am a doc string :) \"\"\"\n",
    "    \n",
    "    def __init__(self, input_str=None):\n",
    "        \"\"\"I am the first function to be called when a new object is initiated\"\"\"\n",
    "        self.input_str = str(input_str)\n",
    "        self.output_str = None\n",
    "    \n",
    "    def do_something(self):\n",
    "        \"\"\"I am a separate method that does something in this class\n",
    "        Note that I don't have to return anything here\n",
    "        \"\"\"\n",
    "        self.output_str = self.input_str + ' is the input'\n",
    "    \n",
    "    def give_me_output(self):\n",
    "        return self.output_str"
   ]
  },
  {
   "cell_type": "code",
   "execution_count": null,
   "metadata": {},
   "outputs": [],
   "source": [
    "new_instance = my_class(5)     # at this step, __init__ is called"
   ]
  },
  {
   "cell_type": "code",
   "execution_count": null,
   "metadata": {},
   "outputs": [],
   "source": [
    "new_instance.do_something()    # here, do_something() is called"
   ]
  },
  {
   "cell_type": "code",
   "execution_count": null,
   "metadata": {},
   "outputs": [],
   "source": [
    "new_instance.give_me_output()  # here, give_me_output() is called"
   ]
  },
  {
   "cell_type": "markdown",
   "metadata": {},
   "source": [
    "Finally, if you care about code styling a lot, which you should, feel free to check out PEP 8 Python coding styling standards [here](https://www.python.org/dev/peps/pep-0008/)."
   ]
  },
  {
   "cell_type": "markdown",
   "metadata": {},
   "source": [
    "**Exercise**\n",
    "\n",
    "<span style='color: red;'>If time permits</span>, try build a calculator that does the following in Python.\n",
    "<ul>\n",
    "    <li>Addition</li>\n",
    "    <li>Subtraction</li>\n",
    "    <li>Multiplication</li>\n",
    "    <li>Division</li>\n",
    "</ul>"
   ]
  },
  {
   "cell_type": "code",
   "execution_count": null,
   "metadata": {},
   "outputs": [],
   "source": [
    "class MyCalculator(object):\n",
    "    \"\"\"insert your doc string here\"\"\"\n",
    "    \n",
    "    def __init__(self):\n",
    "        pass\n",
    "    \n",
    "    def add(self):\n",
    "        pass\n",
    "    \n",
    "    def subtract(self):\n",
    "        pass\n",
    "    \n",
    "    def multiply(self):\n",
    "        pass\n",
    "    \n",
    "    def divide(self):\n",
    "        pass"
   ]
  },
  {
   "cell_type": "markdown",
   "metadata": {},
   "source": [
    "# Statistics\n",
    "\n",
    "Whew, I'm sure the Python section bored you out a little. Let's learn something more fun.\n",
    "\n",
    "<img src='https://media1.giphy.com/media/1P1qpwEW1YGdxeOQLq/giphy.gif' alt='Let the fun begin'>"
   ]
  },
  {
   "cell_type": "markdown",
   "metadata": {},
   "source": [
    "Let's first use Python's `random` module to generate 1,000,000 random numbers."
   ]
  },
  {
   "cell_type": "code",
   "execution_count": null,
   "metadata": {},
   "outputs": [],
   "source": [
    "import random\n",
    "random.seed(1234)     \n",
    "# by setting a seed, you can ensure every time you run this block of code, the output is the same\n",
    "\n",
    "dataset = [random.random() for _ in range(1_000_000)]    \n",
    "# underscore means that variable is not important to store\n",
    "\n",
    "import statistics # let's import this for later"
   ]
  },
  {
   "cell_type": "code",
   "execution_count": null,
   "metadata": {
    "scrolled": true
   },
   "outputs": [],
   "source": [
    "len(dataset)"
   ]
  },
  {
   "cell_type": "code",
   "execution_count": null,
   "metadata": {},
   "outputs": [],
   "source": [
    "dataset[:5]"
   ]
  },
  {
   "cell_type": "markdown",
   "metadata": {},
   "source": [
    "**Arithmetic Mean a.k.a. Average**"
   ]
  },
  {
   "cell_type": "code",
   "execution_count": null,
   "metadata": {},
   "outputs": [],
   "source": [
    "def average(arr):\n",
    "    return sum(arr) / len(arr)"
   ]
  },
  {
   "cell_type": "code",
   "execution_count": null,
   "metadata": {},
   "outputs": [],
   "source": [
    "mean = average(dataset)"
   ]
  },
  {
   "cell_type": "code",
   "execution_count": null,
   "metadata": {},
   "outputs": [],
   "source": [
    "mean"
   ]
  },
  {
   "cell_type": "code",
   "execution_count": null,
   "metadata": {},
   "outputs": [],
   "source": [
    "# validate\n",
    "statistics.mean(dataset)"
   ]
  },
  {
   "cell_type": "markdown",
   "metadata": {},
   "source": [
    "**Median**"
   ]
  },
  {
   "cell_type": "code",
   "execution_count": null,
   "metadata": {},
   "outputs": [],
   "source": [
    "def median(arr):\n",
    "    arr = sorted(arr)\n",
    "    median_index = int(len(arr) / 2)\n",
    "    if len(arr) % 2 == 0:      # if the list has even number of elements\n",
    "        median = average([arr[median_index], arr[median_index-1]])\n",
    "    else:\n",
    "        median = arr[median_index]\n",
    "    return median"
   ]
  },
  {
   "cell_type": "code",
   "execution_count": null,
   "metadata": {},
   "outputs": [],
   "source": [
    "median(dataset)"
   ]
  },
  {
   "cell_type": "code",
   "execution_count": null,
   "metadata": {},
   "outputs": [],
   "source": [
    "# validate\n",
    "statistics.median(dataset)"
   ]
  },
  {
   "cell_type": "markdown",
   "metadata": {},
   "source": [
    "**Variance**"
   ]
  },
  {
   "cell_type": "code",
   "execution_count": null,
   "metadata": {},
   "outputs": [],
   "source": [
    "def variance(arr):\n",
    "    mean = average(arr)      # note that I am using the average() function here\n",
    "    variance = sum(\n",
    "                map(lambda i: (i-mean)**2, arr)\n",
    "                  ) / (len(arr) - 1)\n",
    "    return variance"
   ]
  },
  {
   "cell_type": "markdown",
   "metadata": {},
   "source": [
    "`map` operation \"maps\" a function to every element of a collection passed in the second section.\n",
    "\n",
    "`lambda` is a Python way to explicitly define small-scale function anonymously; see more [here](https://realpython.com/python-lambda/)"
   ]
  },
  {
   "cell_type": "code",
   "execution_count": null,
   "metadata": {},
   "outputs": [],
   "source": [
    "variance(dataset)"
   ]
  },
  {
   "cell_type": "code",
   "execution_count": null,
   "metadata": {},
   "outputs": [],
   "source": [
    "# validate\n",
    "statistics.variance(dataset)"
   ]
  },
  {
   "cell_type": "markdown",
   "metadata": {},
   "source": [
    "**Standard Deviation**"
   ]
  },
  {
   "cell_type": "code",
   "execution_count": null,
   "metadata": {},
   "outputs": [],
   "source": [
    "def stdv(arr):\n",
    "    var = variance(arr)\n",
    "    standard_deviation = var ** 0.5\n",
    "    return standard_deviation"
   ]
  },
  {
   "cell_type": "code",
   "execution_count": null,
   "metadata": {},
   "outputs": [],
   "source": [
    "stdv(dataset)"
   ]
  },
  {
   "cell_type": "code",
   "execution_count": null,
   "metadata": {},
   "outputs": [],
   "source": [
    "# validate\n",
    "statistics.stdev(dataset)"
   ]
  },
  {
   "cell_type": "markdown",
   "metadata": {},
   "source": [
    "Ok... I got the math now, but what do all of these mean???????\n",
    "\n",
    "<img src='https://media.giphy.com/media/1oJLpejP9jEvWQlZj4/giphy.gif' alt='confusion'>"
   ]
  },
  {
   "cell_type": "markdown",
   "metadata": {},
   "source": [
    "<img src='https://miro.medium.com/max/24000/1*IdGgdrY_n_9_YfkaCh-dag.png'>\n",
    "\n",
    "Nomral distribution is a bell-curve shaped distribution, where `mean` equals to `median`. In addition, it is estimated that \n",
    "\n",
    "<ul>\n",
    "    <li><strong>68%</strong> of the data fall between +/-1 standard deviation></li>\n",
    "    <li><strong>95%</strong> of the data fall between +/-2 standard deviation></li>\n",
    "    <li><strong>99%</strong> of the data fall between +/-3 standard deviation></li>\n",
    "</ul>\n",
    "\n",
    "To calculate how far the value is away from the sample mean, `z-score` is calculated which we do not cover today. Read more about `z-score` [here](https://www.investopedia.com/terms/z/zscore.asp)."
   ]
  },
  {
   "cell_type": "markdown",
   "metadata": {},
   "source": [
    "**Q&A**: Given we know how far a data point is away from the mean, what information can we interpret from it?"
   ]
  },
  {
   "cell_type": "markdown",
   "metadata": {},
   "source": [
    "## Let's Make It A Bit More Complicated\n",
    "\n",
    "We've been focusing on one variable. Let's now look into the descriptive statistics of two variables."
   ]
  },
  {
   "cell_type": "markdown",
   "metadata": {},
   "source": [
    "Assuming we have two variables, `X` and `Y`, we can calculate the same descriptive statistics above for both of them such that\n",
    "\n",
    "<table width='100%'>\n",
    "    <tr>\n",
    "        <td> Average </td>\n",
    "        <td>\n",
    "            \\begin{equation}\n",
    "                \\bar{X} = \\frac{\\displaystyle\\sum_{i=1}^n x_i}{n}\n",
    "            \\end{equation}\n",
    "        </td>\n",
    "        <td>\n",
    "            \\begin{equation}\n",
    "                \\bar{Y} = \\frac{\\displaystyle\\sum_{i=1}^n y_i}{n}\n",
    "            \\end{equation}\n",
    "        </td>\n",
    "    </tr>\n",
    "    <tr>\n",
    "        <td> Variance </td>\n",
    "        <td>\n",
    "            \\begin{equation}\n",
    "                Var(X) = \\sigma_x^2 = \\frac{\\displaystyle\\sum_{i=1}^{n}(x_i - \\bar{X})^2} {n-1}\n",
    "            \\end{equation}\n",
    "        </td>\n",
    "        <td>\n",
    "            \\begin{equation}\n",
    "                Var(Y) = \\sigma_y^2 = \\frac{\\displaystyle\\sum_{i=1}^{n}(y_i - \\bar{Y})^2} {n-1}\n",
    "            \\end{equation}\n",
    "        </td>\n",
    "    </tr>\n",
    "    <tr>\n",
    "        <td> Standard Deviation </td>\n",
    "        <td>\n",
    "            \\begin{equation}\n",
    "                Stdev(X) = \\sqrt{Var(X)}\n",
    "            \\end{equation}\n",
    "        </td>\n",
    "        <td>\n",
    "            \\begin{equation}\n",
    "                Stdev(Y) = \\sqrt{Var(Y)}\n",
    "            \\end{equation}\n",
    "        </td>\n",
    "    </tr>\n",
    "</table>"
   ]
  },
  {
   "cell_type": "markdown",
   "metadata": {},
   "source": [
    "**Covariance**\n",
    "\n",
    "Covariance is a measure of how much two random variables vary together.\n",
    "\n",
    "\\begin{equation}\n",
    "    cov_{x,y}=\\frac{\\displaystyle\\sum_{i=1}^{N}(x_{i}-\\bar{x})(y_{i}-\\bar{y})}{N-1}\n",
    "\\end{equation}\n",
    "\n",
    "If the covariance is positive, it tells us that the two variables are positively related, and vice versa. However, covariance does not have a upper nor lower limit, thus we cannot compare the magnitude of inter-variable relationship."
   ]
  },
  {
   "cell_type": "markdown",
   "metadata": {},
   "source": [
    "**Correlation**\n",
    "\n",
    "Correlation coefficients are used to measure how strong the relationship is between two variables. There are several types of correlation coefficients and Pearson's Correlation is commonly used in describing linear relations.\n",
    "\n",
    "\\begin{equation}\n",
    "    cor_{x,y} = \\frac{cov_{x, y}}{\\sigma_x\\sigma_y}\n",
    "\\end{equation}"
   ]
  },
  {
   "cell_type": "code",
   "execution_count": null,
   "metadata": {},
   "outputs": [],
   "source": [
    "# Let's generate two random variables with the same size\n",
    "import numpy as np\n",
    "# numpy (Numerical Python) is a very popular data science tool (https://numpy.org/)\n",
    "\n",
    "x = np.random.random(1_000_000)\n",
    "y = np.random.random(1_000_000)"
   ]
  },
  {
   "cell_type": "code",
   "execution_count": null,
   "metadata": {},
   "outputs": [],
   "source": [
    "len(x), len(y)"
   ]
  },
  {
   "cell_type": "code",
   "execution_count": null,
   "metadata": {},
   "outputs": [],
   "source": [
    "x[:5]"
   ]
  },
  {
   "cell_type": "code",
   "execution_count": null,
   "metadata": {},
   "outputs": [],
   "source": [
    "# Let's calculate covariance\n",
    "np.cov(x, y)"
   ]
  },
  {
   "cell_type": "markdown",
   "metadata": {},
   "source": [
    "The output above is known as `variance-covariance matrix`, where the diagonal represents the variance of each variable, and the other positions represents the covariance of different variable pairs, such that\n",
    "\n",
    "<table width='30%'>\n",
    "    <tr>\n",
    "        <td></td>\n",
    "        <td>X</td>\n",
    "        <td>Y</td>\n",
    "    </tr>\n",
    "    <tr>\n",
    "        <td>X</td>\n",
    "        <td>Var(X)</td>\n",
    "        <td>Cov(X, Y)</td>\n",
    "    </tr>\n",
    "    <tr>\n",
    "        <td>Y</td>\n",
    "        <td>Cov(X, Y)</td>\n",
    "        <td>Var(Y)</td>\n",
    "    </tr>\n",
    "</table>\n",
    "\n",
    "**Note:** Cov(X, X) is equal to Var(X)"
   ]
  },
  {
   "cell_type": "code",
   "execution_count": null,
   "metadata": {},
   "outputs": [],
   "source": [
    "# Let's calculate correlation\n",
    "np.corrcoef(x, y)"
   ]
  },
  {
   "cell_type": "markdown",
   "metadata": {},
   "source": [
    "The output above is known as `correlation matrix`, where the diagonal represents the correlation of the variable with itself, and the other positions represents the correlation of different variable pairs, such that\n",
    "\n",
    "<table width='30%'>\n",
    "    <tr>\n",
    "        <td></td>\n",
    "        <td>X</td>\n",
    "        <td>Y</td>\n",
    "    </tr>\n",
    "    <tr>\n",
    "        <td>X</td>\n",
    "        <td>Corr(X, X)</td>\n",
    "        <td>Corr(X, Y)</td>\n",
    "    </tr>\n",
    "    <tr>\n",
    "        <td>Y</td>\n",
    "        <td>Corr(X, Y)</td>\n",
    "        <td>Corr(Y, Y)</td>\n",
    "    </tr>\n",
    "</table>\n",
    "\n",
    "**Note:** Corr(X, X) is 1 -> A variable is perfectly postiively correlated with itself."
   ]
  },
  {
   "cell_type": "markdown",
   "metadata": {},
   "source": [
    "# Recap"
   ]
  },
  {
   "cell_type": "markdown",
   "metadata": {},
   "source": [
    "In this session, we've covered\n",
    "\n",
    "<ol>\n",
    "    <li>Basic Python programming</li>\n",
    "    <li>Statistics for single variable</li>\n",
    "    <li>Descriptive statistics for two variables</li>\n",
    "</ol>\n",
    "\n",
    "You should be able to\n",
    "<ol>\n",
    "    <li>Complete the Calculator exercise</li>\n",
    "    <li>Explain what descriptive statistics are appropriate for sing variable</li>\n",
    "    <li>Interpret the implications of descriptive statistics</li>\n",
    "    <li>Explain the difference between covariance and correlation</li>\n",
    "    <li>Interpret Pearson's Correlation Coefficient</li>\n",
    "<ol>"
   ]
  },
  {
   "cell_type": "code",
   "execution_count": null,
   "metadata": {},
   "outputs": [],
   "source": []
  }
 ],
 "metadata": {
  "kernelspec": {
   "display_name": "Python 3",
   "language": "python",
   "name": "python3"
  },
  "language_info": {
   "codemirror_mode": {
    "name": "ipython",
    "version": 3
   },
   "file_extension": ".py",
   "mimetype": "text/x-python",
   "name": "python",
   "nbconvert_exporter": "python",
   "pygments_lexer": "ipython3",
   "version": "3.6.9"
  }
 },
 "nbformat": 4,
 "nbformat_minor": 2
}
